{
 "cells": [
  {
   "cell_type": "markdown",
   "id": "d0ba47bf",
   "metadata": {},
   "source": [
    "# Awsome links I am likely to revisit"
   ]
  },
  {
   "cell_type": "markdown",
   "id": "brown-cornell",
   "metadata": {},
   "source": [
    "## Programming\n",
    "\n",
    "- [Lectures of Assembly Language Programming](https://www.cs.uaf.edu/2016/fall/cs301/lecture/)\n",
    "- [Guide to x86-64 and Registers in Assembly](https://web.stanford.edu/class/cs107/guide/x86-64.html)\n",
    "- [Get optional command line args in C/C++](https://azrael.digipen.edu/~mmead/www/Courses/CS180/getopt.html)\n",
    "- [Return type of Comparator in Java](https://stackoverflow.com/questions/6478515/return-type-from-a-comparator)\n",
    "- [The Y Combinator (no, not that one)](https://medium.com/@ayanonagon/the-y-combinator-no-not-that-one-7268d8d9c46)[Has a concise and clear summary of lambda calculus]\n",
    "- [Unit testing in deep learning](https://towardsdatascience.com/unit-testing-in-deep-learning-b91d366e4862)"
   ]
  },
  {
   "cell_type": "markdown",
   "id": "22b93982",
   "metadata": {},
   "source": [
    "## Software Tools\n",
    "\n",
    "- [IJava - Java in Jupyter notebook](https://github.com/SpencerPark/IJava)\n",
    "\\[This notebook itself is written with Java kernel in a Jupyter notebook\\]\n",
    "- [Attaching JDK source code in Eclipse](https://stackoverflow.com/questions/28356180/ubuntu-openjdk-7-the-link-src-zip-is-broken)\n",
    "\\[In some openjdk versions there are issues with symlink as a result of which Eclipse doesn't recognize the original `src.zip`\\]\n",
    "- [Adding external JAR in Eclipse](https://stackoverflow.com/a/64389026)\n",
    "- [Latex in Jekyll](http://www.iangoodfellow.com/blog/jekyll/markdown/tex/2016/11/07/latex-in-markdown.html)\n",
    "- [Make a pip package out of python code](https://python-packaging.readthedocs.io/en/latest/minimal.html)\n",
    "- [How to use lldb (Command line debugging tool for C/C++)](https://lldb.llvm.org/use/tutorial.html)\n",
    "- [What is version control and why should you care? (Lokesh Devnani)](https://lokesh.me/version-control-need/)\n",
    "- [Using Virtual Environments in Jupyter Notebook and Python](https://janakiev.com/blog/jupyter-virtual-envs/)"
   ]
  },
  {
   "cell_type": "markdown",
   "id": "dangerous-warrior",
   "metadata": {},
   "source": [
    "## Computer Vision\n",
    "\n",
    "- [Homogenous Coordinates](http://www.songho.ca/math/homogeneous/homogeneous.html)\n",
    "- [Roamin Beaumont's blog](https://rom1504.medium.com/)\n",
    "- [First Principles of Computer Vision](https://www.youtube.com/channel/UCf0WB91t8Ky6AuYcQV0CcLw)\n",
    "- [Medium (Ketan Doshi)](https://ketanhdoshi.medium.com/)"
   ]
  },
  {
   "cell_type": "markdown",
   "id": "6a332c12",
   "metadata": {},
   "source": [
    "## Machine Learning\n",
    "\n",
    "- [You don't really know softmax](https://ogunlao.github.io/2020/04/26/you_dont_really_know_softmax.html)\n",
    "- [University of Amsterdam](https://uvaml1.github.io/) [Closely follows Bishop PRML]\n",
    "- [Will Kurt's CountBaysie](https://www.countbayesie.com/)\n",
    "- [Active Learning (Jacob Gildenblat)](https://jacobgil.github.io/deeplearning/activelearning)\n",
    "- [StatQuest videos](https://statquest.org/video-index/)"
   ]
  },
  {
   "cell_type": "markdown",
   "id": "0dd8cc43",
   "metadata": {},
   "source": [
    "## Natural Language Processing\n",
    "\n",
    "- [Lilian Weng's blog](https://lilianweng.github.io/)\n",
    "- [The dummy's guide to MFCC](https://medium.com/prathena/the-dummys-guide-to-mfcc-aceab2450fd)"
   ]
  },
  {
   "cell_type": "markdown",
   "id": "412b6a73",
   "metadata": {},
   "source": [
    "## Adventure\n",
    "\n",
    "- [NY Empire Trail](https://www.nytimes.com/interactive/2021/11/05/nyregion/ny-empire-trail.html)"
   ]
  },
  {
   "cell_type": "markdown",
   "id": "27d8dbc0",
   "metadata": {},
   "source": [
    "## Personal Growth\n",
    "\n",
    "- [Mental Notes for Receiving Feedback (Lokesh Devnani)](https://lokesh.me/mental-notes-for-receiving-feedback/)"
   ]
  },
  {
   "cell_type": "markdown",
   "id": "2626ae32",
   "metadata": {},
   "source": [
    "## Anime\n",
    "\n",
    "- [Haikyuu (Mit Vasani)](https://vasanimit9.medium.com/on-motivation-the-spikers-of-karasuno-high-2794819a007a)"
   ]
  }
 ],
 "metadata": {
  "kernelspec": {
   "display_name": "Python 3 (ipykernel)",
   "language": "python",
   "name": "python3"
  },
  "language_info": {
   "codemirror_mode": {
    "name": "ipython",
    "version": 3
   },
   "file_extension": ".py",
   "mimetype": "text/x-python",
   "name": "python",
   "nbconvert_exporter": "python",
   "pygments_lexer": "ipython3",
   "version": "3.8.10"
  }
 },
 "nbformat": 4,
 "nbformat_minor": 5
}
