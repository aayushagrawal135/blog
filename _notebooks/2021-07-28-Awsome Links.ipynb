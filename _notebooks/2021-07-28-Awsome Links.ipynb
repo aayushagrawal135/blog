{
 "cells": [
  {
   "cell_type": "markdown",
   "id": "female-september",
   "metadata": {},
   "source": [
    "# Awsome links"
   ]
  },
  {
   "cell_type": "markdown",
   "id": "brown-cornell",
   "metadata": {},
   "source": [
    "- [IJava - Java in Jupyter notebook](https://github.com/SpencerPark/IJava)\n",
    "\\[This notebook itself is written with Java kernel in a Jupyter notebook\\]\n",
    "\n",
    "- [Attaching JDK source code in Eclipse](https://stackoverflow.com/questions/28356180/ubuntu-openjdk-7-the-link-src-zip-is-broken)\n",
    "\\[In some openjdk versions there are issues with symlink as a result of which Eclipse doesn't recognize the original `src.zip`\\]\n",
    "\n",
    "- [Adding external JAR in Eclipse](https://stackoverflow.com/a/64389026)\n",
    "\n",
    "- [Latex in Jekyll](http://www.iangoodfellow.com/blog/jekyll/markdown/tex/2016/11/07/latex-in-markdown.html)\n",
    "\n",
    "- [Make a pip package out of python code](https://python-packaging.readthedocs.io/en/latest/minimal.html)\n",
    "\n",
    "- [Lectures of Assembly Language Programming](https://www.cs.uaf.edu/2016/fall/cs301/lecture/)\n",
    "\n",
    "- [Guide to x86-64 and Registers in Assembly](https://web.stanford.edu/class/cs107/guide/x86-64.html)\n",
    "\n",
    "- [The dummy's guide to MFCC](https://medium.com/prathena/the-dummys-guide-to-mfcc-aceab2450fd)\n",
    "\n",
    "- [How to use lldb (Command line debugging tool for C/C++)](https://lldb.llvm.org/use/tutorial.html)\n",
    "\n",
    "- [Get optional command line args in C/C++](https://azrael.digipen.edu/~mmead/www/Courses/CS180/getopt.html)"
   ]
  },
  {
   "cell_type": "markdown",
   "id": "dangerous-warrior",
   "metadata": {},
   "source": [
    "## Computer Vision\n",
    "\n",
    "- [Homogenous Coordinates](http://www.songho.ca/math/homogeneous/homogeneous.html)\n",
    "- [Lilian Weng's blog](https://lilianweng.github.io/) [Mostly NLP and object detection in vision]\n",
    "- [You don't really know softmax](https://ogunlao.github.io/2020/04/26/you_dont_really_know_softmax.html)\n",
    "- [Roamin Beaumont's blog](https://rom1504.medium.com/)"
   ]
  }
 ],
 "metadata": {
  "kernelspec": {
   "display_name": "Python 3 (ipykernel)",
   "language": "python",
   "name": "python3"
  },
  "language_info": {
   "codemirror_mode": {
    "name": "ipython",
    "version": 3
   },
   "file_extension": ".py",
   "mimetype": "text/x-python",
   "name": "python",
   "nbconvert_exporter": "python",
   "pygments_lexer": "ipython3",
   "version": "3.8.10"
  }
 },
 "nbformat": 4,
 "nbformat_minor": 5
}
