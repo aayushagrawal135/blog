{
 "cells": [
  {
   "cell_type": "markdown",
   "id": "proper-exhaust",
   "metadata": {},
   "source": [
    "# Coding questions that I would like to revisit"
   ]
  },
  {
   "cell_type": "markdown",
   "id": "listed-belly",
   "metadata": {},
   "source": [
    "## Dynamic Programming\n",
    "\n",
    "- [Longest Increasing Subsequence in O(nlogn)](https://www.geeksforgeeks.org/longest-monotonically-increasing-subsequence-size-n-log-n/)\n",
    "- [Longest Valid Parentheses](https://leetcode.com/problems/longest-valid-parentheses/submissions/)\n",
    "- [Count Square Submatrices with All Ones](https://leetcode.com/problems/count-square-submatrices-with-all-ones/)\n",
    "- [Best Sightseeing Pair](https://leetcode.com/problems/best-sightseeing-pair/)\n",
    "- [Maximum Number of Points with Cost](https://leetcode.com/problems/maximum-number-of-points-with-cost/) Extension of previous question\n",
    "- [Edit Distance](https://leetcode.com/problems/edit-distance/)"
   ]
  },
  {
   "cell_type": "markdown",
   "id": "6890195e",
   "metadata": {},
   "source": [
    "## Breadth First Search\n",
    "\n",
    "- [Find Bottom Left Tree Value](https://leetcode.com/problems/find-bottom-left-tree-value/)\n",
    "- [Course Schedule II](https://leetcode.com/problems/course-schedule-ii/)\n",
    "- [Max Area of Island](https://leetcode.com/problems/max-area-of-island/)"
   ]
  }
 ],
 "metadata": {
  "kernelspec": {
   "display_name": "Python 3 (ipykernel)",
   "language": "python",
   "name": "python3"
  },
  "language_info": {
   "codemirror_mode": {
    "name": "ipython",
    "version": 3
   },
   "file_extension": ".py",
   "mimetype": "text/x-python",
   "name": "python",
   "nbconvert_exporter": "python",
   "pygments_lexer": "ipython3",
   "version": "3.8.10"
  }
 },
 "nbformat": 4,
 "nbformat_minor": 5
}
